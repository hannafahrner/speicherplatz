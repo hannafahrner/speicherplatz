{
  "nbformat": 4,
  "nbformat_minor": 0,
  "metadata": {
    "colab": {
      "provenance": [],
      "collapsed_sections": [],
      "authorship_tag": "ABX9TyMwKenJbfZqR3+Zf/nX/DHZ",
      "include_colab_link": true
    },
    "kernelspec": {
      "name": "python3",
      "display_name": "Python 3"
    },
    "language_info": {
      "name": "python"
    }
  },
  "cells": [
    {
      "cell_type": "markdown",
      "metadata": {
        "id": "view-in-github",
        "colab_type": "text"
      },
      "source": [
        "<a href=\"https://colab.research.google.com/github/hannafahrner/speicherplatz/blob/main/erster_Versuch.ipynb\" target=\"_parent\"><img src=\"https://colab.research.google.com/assets/colab-badge.svg\" alt=\"Open In Colab\"/></a>"
      ]
    },
    {
      "cell_type": "code",
      "execution_count": 4,
      "metadata": {
        "colab": {
          "base_uri": "https://localhost:8080/"
        },
        "id": "u7g5K-5ODN5s",
        "outputId": "82dd86ba-9a6e-4315-a944-5820f880a9c4"
      },
      "outputs": [
        {
          "output_type": "stream",
          "name": "stdout",
          "text": [
            "Hallo\n",
            "Hallo1\n"
          ]
        }
      ],
      "source": [
        "print(\"Hallo\")\n",
        "print(\"Hallo1\")"
      ]
    },
    {
      "cell_type": "markdown",
      "source": [
        "**Das ist ein erster Versuch.**\n",
        "\n",
        "\n"
      ],
      "metadata": {
        "id": "MUvwL-jrEJM_"
      }
    },
    {
      "cell_type": "code",
      "source": [
        "print(\"Hallo2\")\n"
      ],
      "metadata": {
        "colab": {
          "base_uri": "https://localhost:8080/"
        },
        "id": "1r0Rp7K1DsZw",
        "outputId": "61e91000-e658-4a49-b9ec-22dedce0996f"
      },
      "execution_count": 5,
      "outputs": [
        {
          "output_type": "stream",
          "name": "stdout",
          "text": [
            "Hallo2\n"
          ]
        }
      ]
    }
  ]
}